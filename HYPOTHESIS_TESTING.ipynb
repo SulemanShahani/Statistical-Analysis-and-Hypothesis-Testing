{
  "nbformat": 4,
  "nbformat_minor": 0,
  "metadata": {
    "colab": {
      "provenance": [],
      "authorship_tag": "ABX9TyMlKziDkccGKIS3P0u4GL4Q",
      "include_colab_link": true
    },
    "kernelspec": {
      "name": "python3",
      "display_name": "Python 3"
    },
    "language_info": {
      "name": "python"
    }
  },
  "cells": [
    {
      "cell_type": "markdown",
      "metadata": {
        "id": "view-in-github",
        "colab_type": "text"
      },
      "source": [
        "<a href=\"https://colab.research.google.com/github/SulemanShahani/Statistical-Analysis-and-Hypothesis-Testing/blob/main/HYPOTHESIS_TESTING.ipynb\" target=\"_parent\"><img src=\"https://colab.research.google.com/assets/colab-badge.svg\" alt=\"Open In Colab\"/></a>"
      ]
    },
    {
      "cell_type": "code",
      "execution_count": null,
      "metadata": {
        "id": "315n-iGu3OiS"
      },
      "outputs": [],
      "source": [
        "%matplotlib inline\n",
        "\n",
        "import numpy as np\n",
        "import pandas as pd\n",
        "import scipy.stats as stats\n",
        "import matplotlib.pyplot as plt\n",
        "import math"
      ]
    },
    {
      "cell_type": "markdown",
      "source": [],
      "metadata": {
        "id": "iCl47MxUTPEt"
      }
    },
    {
      "cell_type": "code",
      "source": [
        "np.random.seed(6)\n",
        "\n",
        "population_ages1 = stats.poisson.rvs(loc=18, mu=35, size=150000)\n",
        "population_ages2 = stats.poisson.rvs(loc=18, mu=10, size=100000)\n",
        "population_ages = np.concatenate((population_ages1, population_ages2))\n",
        "\n",
        "minnesota_ages1 = stats.poisson.rvs(loc=18, mu=30, size=30)\n",
        "minnesota_ages2 = stats.poisson.rvs(loc=18, mu=10, size=20)\n",
        "minnesota_ages = np.concatenate((minnesota_ages1, minnesota_ages2))\n",
        "\n"
      ],
      "metadata": {
        "colab": {
          "base_uri": "https://localhost:8080/"
        },
        "id": "VeHefcBO3PV7",
        "outputId": "bd1b8620-940c-4c52-835f-22f21be221a0"
      },
      "execution_count": null,
      "outputs": [
        {
          "output_type": "stream",
          "name": "stdout",
          "text": [
            "43.000112\n",
            "39.26\n"
          ]
        }
      ]
    },
    {
      "cell_type": "code",
      "source": [
        "# Calculating means\n",
        "print(\"Population mean age:\", population_ages.mean())\n",
        "print(\"Minnesota mean age:\", minnesota_ages.mean())"
      ],
      "metadata": {
        "colab": {
          "base_uri": "https://localhost:8080/"
        },
        "id": "8PTFZDMy3U-1",
        "outputId": "142dc3a0-6fe7-48c9-85fe-a9b73f7224f7"
      },
      "execution_count": null,
      "outputs": [
        {
          "output_type": "stream",
          "name": "stdout",
          "text": [
            "Population mean age: 43.000112\n",
            "Minnesota mean age: 39.26\n"
          ]
        }
      ]
    },
    {
      "cell_type": "code",
      "source": [
        "# One-sample t-test\n",
        "t_statistic, p_value = stats.ttest_1samp(minnesota_ages, population_ages.mean())\n",
        "\n",
        "# Output\n",
        "print(\"\\nResults of the one-sample t-test:\")\n",
        "print(\"t-statistic:\", t_statistic)\n",
        "print(\"p-value:\", p_value)\n",
        "\n",
        "alpha = 0.05\n",
        "if p_value < alpha:\n",
        "    print(\"\\nReject null hypothesis: The sample does not come from the same distribution as the population.\")\n",
        "else:\n",
        "    print(\"\\nFail to reject null hypothesis: The sample comes from the same distribution as the population.\")"
      ],
      "metadata": {
        "colab": {
          "base_uri": "https://localhost:8080/"
        },
        "id": "_d2UxWWV30aP",
        "outputId": "e42db86b-c6ea-4f99-847b-5571da2d8e49"
      },
      "execution_count": null,
      "outputs": [
        {
          "output_type": "stream",
          "name": "stdout",
          "text": [
            "\n",
            "Results of the one-sample t-test:\n",
            "t-statistic: -2.5742714883655027\n",
            "p-value: 0.013118685425061678\n",
            "\n",
            "Reject null hypothesis: The sample does not come from the same distribution as the population.\n"
          ]
        }
      ]
    },
    {
      "cell_type": "code",
      "source": [
        "# Degrees of freedom\n",
        "df = len(minnesota_ages) - 1\n",
        "print(\"Degrees of freedom:\", df)\n",
        "\n",
        "# Calculate critical t-value for 95% confidence level\n",
        "alpha = 0.05\n",
        "critical_t = stats.t.ppf(1 - alpha, df)\n",
        "print(\"Critical t-value (two-tailed):\", critical_t)\n",
        "\n",
        "# Interpret results\n",
        "if np.abs(t_statistic) > critical_t:\n",
        "    print(\"\\nReject null hypothesis: The sample does not come from the same distribution as the population.\")\n",
        "else:\n",
        "    print(\"\\nFail to reject null hypothesis: The sample comes from the same distribution as the population.\")\n",
        "\n",
        "\n",
        "\n",
        "\n",
        "\n",
        "\n",
        "\n"
      ],
      "metadata": {
        "colab": {
          "base_uri": "https://localhost:8080/"
        },
        "id": "0eYyfCxl4Cmz",
        "outputId": "0eea635a-1a7f-43e1-9d67-ad854be222a3"
      },
      "execution_count": null,
      "outputs": [
        {
          "output_type": "stream",
          "name": "stdout",
          "text": [
            "Degrees of freedom: 49\n",
            "Critical t-value (two-tailed): 1.6765508919142629\n",
            "\n",
            "Reject null hypothesis: The sample does not come from the same distribution as the population.\n"
          ]
        }
      ]
    },
    {
      "cell_type": "markdown",
      "source": [
        "The stats.t.ppf() function in SciPy calculates the critical t-value for a given cumulative probability q and degrees of freedom df. For a two-tailed test with a 95% confidence level (alpha = 0.05), we need to find the critical t-value at the 2.5% quantile in each tail.The output will be the critical t-value for a two-tailed test with a 95% confidence level. This value is used to determine whether to reject the null hypothesis based on the t-statistic obtained from the sample data."
      ],
      "metadata": {
        "id": "Jmlztil_5E7c"
      }
    },
    {
      "cell_type": "code",
      "source": [
        "# Degrees of freedom\n",
        "df = 49\n",
        "\n",
        "# Calculate critical t-value for 95% confidence level (two-tailed test)\n",
        "alpha = 0.05\n",
        "critical_t = stats.t.ppf(1 - alpha / 2, df)\n",
        "\n",
        "print(\"Critical t-value (two-tailed):\", critical_t)"
      ],
      "metadata": {
        "colab": {
          "base_uri": "https://localhost:8080/"
        },
        "id": "Ic0eJlXQ5GPE",
        "outputId": "c49109d7-6a3a-44c2-d2c2-f9fff9785be8"
      },
      "execution_count": null,
      "outputs": [
        {
          "output_type": "stream",
          "name": "stdout",
          "text": [
            "Critical t-value (two-tailed): 2.009575234489209\n"
          ]
        }
      ]
    },
    {
      "cell_type": "markdown",
      "source": [
        "The stats.t.ppf() function in SciPy calculates the critical t-value for a given cumulative probability q and degrees of freedom df. For a two-tailed test with a 95% confidence level (alpha = 0.05), we need to find the critical t-value at the 97.5% quantile, which covers 95% of the distribution (2.5% in each tail).The output will be the critical t-value for a two-tailed test with a 95% confidence level. This value is used to determine whether to reject the null hypothesis based on the t-statistic obtained from the sample data."
      ],
      "metadata": {
        "id": "ATAT9sd25URw"
      }
    },
    {
      "cell_type": "code",
      "source": [
        "# Degrees of freedom\n",
        "df = 49\n",
        "\n",
        "# Calculate critical t-value for 95% confidence level (two-tailed test)\n",
        "alpha = 0.05\n",
        "critical_t = stats.t.ppf(1 - alpha / 2, df)\n",
        "\n",
        "print(\"Critical t-value (two-tailed):\", critical_t)"
      ],
      "metadata": {
        "colab": {
          "base_uri": "https://localhost:8080/"
        },
        "id": "31NSqkwq5JUc",
        "outputId": "dc6c4c56-5ad6-4f28-a85a-4be2db792931"
      },
      "execution_count": null,
      "outputs": [
        {
          "output_type": "stream",
          "name": "stdout",
          "text": [
            "Critical t-value (two-tailed): 2.009575234489209\n"
          ]
        }
      ]
    },
    {
      "cell_type": "code",
      "source": [],
      "metadata": {
        "id": "rf4XuVw65atP"
      },
      "execution_count": null,
      "outputs": []
    },
    {
      "cell_type": "markdown",
      "source": [
        "We can calculate the chances of seeing a result as extreme as the one we observed (known as the p-value) by passing the t-statistic in as the quantile to the stats.t.cdf() function: The p-value represents the probability of observing a t-statistic as extreme as the one observed (or more extreme) under the null hypothesis. If the p-value is less than your chosen significance level (e.g., 0.05), you would reject the null hypothesis."
      ],
      "metadata": {
        "id": "6JfLh7Yy8uAK"
      }
    },
    {
      "cell_type": "code",
      "source": [
        "# Degrees of freedom\n",
        "df = 49\n",
        "\n",
        "# Observed t-statistic (from your previous t-test result)\n",
        "t_statistic = -2.574  # Replace with your actual t-statistic\n",
        "\n",
        "# Calculate p-value for two-tailed test\n",
        "p_value = 2 * stats.t.cdf(t_statistic, df)\n",
        "\n",
        "print(\"P-value:\", p_value)"
      ],
      "metadata": {
        "colab": {
          "base_uri": "https://localhost:8080/"
        },
        "id": "5w01Vxi18unj",
        "outputId": "7493413e-7d6d-483e-85a3-9a8d2799c57e"
      },
      "execution_count": null,
      "outputs": [
        {
          "output_type": "stream",
          "name": "stdout",
          "text": [
            "P-value: 0.013127730199615545\n"
          ]
        }
      ]
    },
    {
      "cell_type": "markdown",
      "source": [
        "P-value Interpretation: The calculated p-value of approximately 0.0131 (or 1.31%) indicates that if the null hypothesis were true (i.e., if the sample mean were equal to the population mean), we would expect to see a t-statistic as extreme as the one observed or more extreme about 1.31% of the time. This is below the typical significance level of 5% (or 0.05), suggesting strong evidence against the null hypothesis.\n",
        "\n",
        "Decision: Since the p-value (0.0131) is less than the significance level (0.05), we reject the null hypothesis. This means we conclude that the sample mean is significantly different from the population mean.\n",
        "\n",
        "Alternative Hypothesis: The alternative hypothesis in this case is that the sample mean is not equal to the population mean. Since this is a two-tailed test, we multiply the p-value by 2 to account for the possibility of differences in either direction.\n",
        "\n",
        "Confidence Interval: Given that the 95% confidence interval for the sample mean does not include the population mean of 43, this also supports rejecting the null hypothesis."
      ],
      "metadata": {
        "id": "i-3M0Ynr9I1t"
      }
    },
    {
      "cell_type": "code",
      "source": [
        "import numpy as np\n",
        "import scipy.stats as stats\n",
        "\n",
        "# Setting seed for reproducibility\n",
        "np.random.seed(6)\n",
        "\n",
        "# Generating populations\n",
        "population_ages1 = stats.poisson.rvs(loc=18, mu=35, size=150000)\n",
        "population_ages2 = stats.poisson.rvs(loc=18, mu=10, size=100000)\n",
        "population_ages = np.concatenate((population_ages1, population_ages2))\n",
        "\n",
        "minnesota_ages1 = stats.poisson.rvs(loc=18, mu=30, size=30)\n",
        "minnesota_ages2 = stats.poisson.rvs(loc=18, mu=10, size=20)\n",
        "minnesota_ages = np.concatenate((minnesota_ages1, minnesota_ages2))\n",
        "\n",
        "# Calculating means\n",
        "print(\"Population mean age:\", population_ages.mean())\n",
        "print(\"Minnesota mean age:\", minnesota_ages.mean())\n",
        "\n",
        "# One-sample t-test\n",
        "t_statistic, p_value = stats.ttest_1samp(minnesota_ages, population_ages.mean())\n",
        "\n",
        "# Output\n",
        "print(\"\\nResults of the one-sample t-test:\")\n",
        "print(\"t-statistic:\", t_statistic)\n",
        "print(\"p-value:\", p_value)\n",
        "\n",
        "# Calculate two-tailed p-value\n",
        "p_value *= 2\n",
        "print(\"Adjusted p-value (two-tailed):\", p_value)\n",
        "\n",
        "# Calculate 95% confidence interval for the sample mean\n",
        "confidence_level = 0.95\n",
        "alpha = 1 - confidence_level\n",
        "n = len(minnesota_ages)\n",
        "mean = minnesota_ages.mean()\n",
        "std_err = stats.sem(minnesota_ages)\n",
        "margin_of_error = stats.t.ppf(1 - alpha / 2, n - 1) * std_err\n",
        "confidence_interval = (mean - margin_of_error, mean + margin_of_error)\n",
        "\n",
        "print(\"\\n95% Confidence Interval for the sample mean:\", confidence_interval)\n",
        "\n",
        "# Interpret results\n",
        "if p_value < alpha:\n",
        "    print(\"\\nReject null hypothesis: The sample mean differs significantly from the population mean.\")\n",
        "else:\n",
        "    print(\"\\nFail to reject null hypothesis: The sample mean is not significantly different from the population mean.\")\n"
      ],
      "metadata": {
        "colab": {
          "base_uri": "https://localhost:8080/"
        },
        "id": "RNJ0sbXF85_s",
        "outputId": "e7f9c4f5-4d89-4584-d452-a3dd0dd91f2d"
      },
      "execution_count": null,
      "outputs": [
        {
          "output_type": "stream",
          "name": "stdout",
          "text": [
            "Population mean age: 43.000112\n",
            "Minnesota mean age: 39.26\n",
            "\n",
            "Results of the one-sample t-test:\n",
            "t-statistic: -2.5742714883655027\n",
            "p-value: 0.013118685425061678\n",
            "Adjusted p-value (two-tailed): 0.026237370850123357\n",
            "\n",
            "95% Confidence Interval for the sample mean: (36.340324867293575, 42.17967513270642)\n",
            "\n",
            "Reject null hypothesis: The sample mean differs significantly from the population mean.\n"
          ]
        }
      ]
    },
    {
      "cell_type": "code",
      "source": [],
      "metadata": {
        "id": "rBDJdFnu9Z1x"
      },
      "execution_count": null,
      "outputs": []
    },
    {
      "cell_type": "markdown",
      "source": [
        "calculate the 95% confidence interval for the sample mean using the formula approach"
      ],
      "metadata": {
        "id": "6kDZMXPK9mar"
      }
    },
    {
      "cell_type": "code",
      "source": [
        "import numpy as np\n",
        "import scipy.stats as stats\n",
        "import math\n",
        "\n",
        "# Setting seed for reproducibility\n",
        "np.random.seed(6)\n",
        "\n",
        "# Generating populations\n",
        "population_ages1 = stats.poisson.rvs(loc=18, mu=35, size=150000)\n",
        "population_ages2 = stats.poisson.rvs(loc=18, mu=10, size=100000)\n",
        "population_ages = np.concatenate((population_ages1, population_ages2))\n",
        "\n",
        "minnesota_ages1 = stats.poisson.rvs(loc=18, mu=30, size=30)\n",
        "minnesota_ages2 = stats.poisson.rvs(loc=18, mu=10, size=20)\n",
        "minnesota_ages = np.concatenate((minnesota_ages1, minnesota_ages2))\n",
        "\n",
        "# Calculating means and standard error\n",
        "mean = minnesota_ages.mean()\n",
        "std_dev = minnesota_ages.std()\n",
        "n = len(minnesota_ages)\n",
        "sigma = std_dev / math.sqrt(n)  # Standard error of the mean\n",
        "\n",
        "# Calculate the 95% confidence interval\n",
        "confidence_level = 0.95\n",
        "alpha = 1 - confidence_level\n",
        "t_critical = stats.t.ppf(1 - alpha / 2, df=n - 1)  # Two-tailed t-critical value\n",
        "\n",
        "margin_of_error = t_critical * sigma\n",
        "confidence_interval = (mean - margin_of_error, mean + margin_of_error)\n",
        "\n",
        "print(\"95% Confidence Interval for the sample mean using standard error method:\", confidence_interval)\n"
      ],
      "metadata": {
        "colab": {
          "base_uri": "https://localhost:8080/"
        },
        "id": "R8nh8fJj9okt",
        "outputId": "71e7fac4-0f2a-4f8c-bc63-fa989c92a148"
      },
      "execution_count": null,
      "outputs": [
        {
          "output_type": "stream",
          "name": "stdout",
          "text": [
            "95% Confidence Interval for the sample mean using standard error method: (36.369669080722176, 42.15033091927782)\n"
          ]
        }
      ]
    },
    {
      "cell_type": "code",
      "source": [
        "import numpy as np\n",
        "import scipy.stats as stats\n",
        "import math\n",
        "\n",
        "# Setting seed for reproducibility\n",
        "np.random.seed(6)\n",
        "\n",
        "# Generating populations\n",
        "population_ages1 = stats.poisson.rvs(loc=18, mu=35, size=150000)\n",
        "population_ages2 = stats.poisson.rvs(loc=18, mu=10, size=100000)\n",
        "population_ages = np.concatenate((population_ages1, population_ages2))\n",
        "\n",
        "minnesota_ages1 = stats.poisson.rvs(loc=18, mu=30, size=30)\n",
        "minnesota_ages2 = stats.poisson.rvs(loc=18, mu=10, size=20)\n",
        "minnesota_ages = np.concatenate((minnesota_ages1, minnesota_ages2))\n",
        "\n",
        "# Calculating means and standard error\n",
        "mean = minnesota_ages.mean()\n",
        "std_dev = minnesota_ages.std()\n",
        "n = len(minnesota_ages)\n",
        "sigma = std_dev / math.sqrt(n)  # Standard error of the mean\n",
        "\n",
        "# Calculate the 99% confidence interval\n",
        "confidence_level = 0.99\n",
        "alpha = 1 - confidence_level\n",
        "t_critical = stats.t.ppf(1 - alpha / 2, df=n - 1)  # Two-tailed t-critical value\n",
        "\n",
        "margin_of_error = t_critical * sigma\n",
        "confidence_interval = (mean - margin_of_error, mean + margin_of_error)\n",
        "\n",
        "print(\"99% Confidence Interval for the sample mean using standard error method:\", confidence_interval)\n"
      ],
      "metadata": {
        "colab": {
          "base_uri": "https://localhost:8080/"
        },
        "id": "K3dK3Xec9rZh",
        "outputId": "e1ab6c7c-0f00-4954-b754-ca694c97a7e0"
      },
      "execution_count": null,
      "outputs": [
        {
          "output_type": "stream",
          "name": "stdout",
          "text": [
            "99% Confidence Interval for the sample mean using standard error method: (35.40547994092107, 43.11452005907893)\n"
          ]
        }
      ]
    },
    {
      "cell_type": "markdown",
      "source": [
        "With a higher confidence level, we construct a wider confidence interval and increase the chances that it captures to true mean, thus making it less likely that we'll reject the null hypothesis. In this case, the p-value of 0.013 is greater than our significance level of 0.01 and we fail to reject the null hypothesis."
      ],
      "metadata": {
        "id": "OPJLAkL3_Wcw"
      }
    },
    {
      "cell_type": "markdown",
      "source": [],
      "metadata": {
        "id": "ljp0i3lf_YX1"
      }
    },
    {
      "cell_type": "code",
      "source": [
        "# One-sample t-test\n",
        "t_statistic, p_value = stats.ttest_1samp(minnesota_ages, population_ages.mean())\n",
        "\n",
        "# Output\n",
        "print(\"\\nResults of the one-sample t-test:\")\n",
        "print(\"t-statistic:\", t_statistic)\n",
        "print(\"p-value:\", p_value)\n",
        "\n",
        "# Interpret results\n",
        "alpha = 0.01  # Significance level\n",
        "if p_value > alpha:\n",
        "    print(\"\\nFail to reject null hypothesis: The sample mean is not significantly different from the population mean.\")\n",
        "else:\n",
        "    print(\"\\nReject null hypothesis: The sample mean differs significantly from the population mean.\")\n"
      ],
      "metadata": {
        "colab": {
          "base_uri": "https://localhost:8080/"
        },
        "id": "oydNwds2-D0f",
        "outputId": "cdb07644-14b8-490c-bf37-639d7428c298"
      },
      "execution_count": null,
      "outputs": [
        {
          "output_type": "stream",
          "name": "stdout",
          "text": [
            "\n",
            "Results of the one-sample t-test:\n",
            "t-statistic: -2.5742714883655027\n",
            "p-value: 0.013118685425061678\n",
            "\n",
            "Fail to reject null hypothesis: The sample mean is not significantly different from the population mean.\n"
          ]
        }
      ]
    },
    {
      "cell_type": "code",
      "source": [],
      "metadata": {
        "id": "6R5UDnEg_8Cq"
      },
      "execution_count": null,
      "outputs": []
    },
    {
      "cell_type": "markdown",
      "source": [
        "### Explanation:\n",
        "\n",
        "#### 99% Confidence Interval Calculation:\n",
        "\n",
        "- We calculate the mean (`mean`) and standard deviation (`std_dev`) of the sample (`minnesota_ages`).\n",
        "- We calculate the standard error of the mean (`sigma`).\n",
        "- We use `stats.t.interval()` to compute the 99% confidence interval for the sample mean.\n",
        "  - `alpha = 0.99` specifies the confidence level.\n",
        "  - `df = 49` is the degrees of freedom for the t-distribution (n - 1).\n",
        "  - `loc` is the sample mean.\n",
        "  - `scale` is the standard error estimate.\n",
        "- The confidence interval is printed as `(lower_bound, upper_bound)`.\n",
        "\n",
        "#### One-sample t-test:\n",
        "\n",
        "- We perform a one-sample t-test to test whether the sample mean (`minnesota_ages.mean()`) differs significantly from the population mean (`population_ages.mean()`).\n",
        "- `t_statistic` is the t-statistic calculated from the test.\n",
        "- `p_value` is the p-value calculated from the test.\n",
        "\n",
        "#### Interpretation:\n",
        "\n",
        "- We set `alpha = 0.01` as the significance level.\n",
        "- If the p-value (`p_value`) is greater than the significance level (`alpha`), we fail to reject the null hypothesis.\n",
        "- If the p-value is less than or equal to `alpha`, we reject the null hypothesis in favor of the alternative hypothesis.\n",
        "  \n",
        "In this case, given a p-value of 0.013, which is greater than the significance level of 0.01, we fail to reject the null hypothesis. This means that we do not have enough evidence to conclude that the sample mean is significantly different from the population mean.\n",
        "\n",
        "The 99% confidence interval (`confidence_interval`) should be wide enough to include the population mean (`population_ages.mean()`), supporting this conclusion.\n"
      ],
      "metadata": {
        "id": "Lee2S27GAbSf"
      }
    },
    {
      "cell_type": "code",
      "source": [],
      "metadata": {
        "id": "SYWzeDTUAcAo"
      },
      "execution_count": null,
      "outputs": []
    },
    {
      "cell_type": "markdown",
      "source": [
        "Two-Sample T-Test¶\n",
        "A two-sample t-test investigates whether the means of two independent data samples differ from one another. In a two-sample test, the null hypothesis is that the means of both groups are the same. Unlike the one sample-test where we test against a known population parameter, the two sample test only involves sample means. You can conduct a two-sample t-test by passing with the stats.ttest_ind() function. Let's generate a sample of voter age data for Wisconsin and test it against the sample we made earlier:"
      ],
      "metadata": {
        "id": "xeUL9y_3AtCx"
      }
    },
    {
      "cell_type": "code",
      "source": [],
      "metadata": {
        "id": "5wNgN2BqApoU"
      },
      "execution_count": null,
      "outputs": []
    },
    {
      "cell_type": "code",
      "source": [
        "import numpy as np\n",
        "import scipy.stats as stats\n",
        "import matplotlib.pyplot as plt\n",
        "import seaborn as sns\n",
        "\n",
        "# Setting seed for reproducibility\n",
        "np.random.seed(6)\n",
        "\n",
        "# Generating populations\n",
        "population_ages1 = stats.poisson.rvs(loc=18, mu=35, size=150000)\n",
        "population_ages2 = stats.poisson.rvs(loc=18, mu=10, size=100000)\n",
        "population_ages = np.concatenate((population_ages1, population_ages2))\n",
        "\n",
        "minnesota_ages1 = stats.poisson.rvs(loc=18, mu=30, size=30)\n",
        "minnesota_ages2 = stats.poisson.rvs(loc=18, mu=10, size=20)\n",
        "minnesota_ages = np.concatenate((minnesota_ages1, minnesota_ages2))\n",
        "\n",
        "# Generating sample of voter age data for Wisconsin\n",
        "wisconsin_ages1 = stats.poisson.rvs(loc=18, mu=33, size=30)\n",
        "wisconsin_ages2 = stats.poisson.rvs(loc=18, mu=13, size=20)\n",
        "wisconsin_ages = np.concatenate((wisconsin_ages1, wisconsin_ages2))\n",
        "\n",
        "# Conducting two-sample t-test\n",
        "t_statistic, p_value = stats.ttest_ind(minnesota_ages, wisconsin_ages)\n",
        "\n",
        "# Output\n",
        "print(\"Results of the two-sample t-test:\")\n",
        "print(\"t-statistic:\", t_statistic)\n",
        "print(\"p-value:\", p_value)\n",
        "\n",
        "# Visualization\n",
        "plt.figure(figsize=(10, 6))\n",
        "sns.histplot(minnesota_ages, color='blue', kde=True, label='Minnesota Ages')\n",
        "sns.histplot(wisconsin_ages, color='green', kde=True, label='Wisconsin Ages')\n",
        "plt.title('Distribution of Voter Ages')\n",
        "plt.xlabel('Age')\n",
        "plt.ylabel('Frequency')\n",
        "plt.legend()\n",
        "plt.show()\n",
        "\n",
        "# Interpretation\n",
        "alpha = 0.05  # Significance level\n",
        "if p_value > alpha:\n",
        "    print(\"\\nFail to reject null hypothesis: The means of the two samples are not significantly different.\")\n",
        "else:\n",
        "    print(\"\\nReject null hypothesis: The means of the two samples are significantly different.\")\n"
      ],
      "metadata": {
        "colab": {
          "base_uri": "https://localhost:8080/",
          "height": 651
        },
        "id": "VGQtI7DsAp2b",
        "outputId": "d11e48ae-7d01-42de-ceab-bfc4a1601008"
      },
      "execution_count": null,
      "outputs": [
        {
          "output_type": "stream",
          "name": "stdout",
          "text": [
            "Results of the two-sample t-test:\n",
            "t-statistic: -2.115107117780053\n",
            "p-value: 0.03695698635704248\n"
          ]
        },
        {
          "output_type": "display_data",
          "data": {
            "text/plain": [
              "<Figure size 1000x600 with 1 Axes>"
            ],
            "image/png": "[encoded data removed]"
          },
          "metadata": {}
        },
        {
          "output_type": "stream",
          "name": "stdout",
          "text": [
            "\n",
            "Reject null hypothesis: The means of the two samples are significantly different.\n"
          ]
        }
      ]
    },
    {
      "cell_type": "code",
      "source": [],
      "metadata": {
        "id": "V6_KWn07AqW6"
      },
      "execution_count": null,
      "outputs": []
    },
    {
      "cell_type": "markdown",
      "source": [
        "Paired T-Test¶\n",
        "The basic two sample t-test is designed for testing differences between independent groups. In some cases, you might be interested in testing differences between samples of the same group at different points in time. For instance, a hospital might want to test whether a weight-loss drug works by checking the weights of the same group patients before and after treatment. A paired t-test lets you check whether the means of samples from the same group differ.\n",
        "\n",
        "We can conduct a paired t-test using the scipy function stats.ttest_rel(). Let's generate some dummy patient weight data and do a paired t-test:"
      ],
      "metadata": {
        "id": "od6_dHOEB5ac"
      }
    },
    {
      "cell_type": "code",
      "source": [
        "import numpy as np\n",
        "import scipy.stats as stats\n",
        "\n",
        "# Setting seed for reproducibility\n",
        "np.random.seed(10)\n",
        "\n",
        "# Generate dummy weight data for the same group before and after treatment\n",
        "before_weight = stats.norm.rvs(loc=80, scale=5, size=100)\n",
        "after_weight = before_weight + stats.norm.rvs(loc=-1.25, scale=3, size=100)\n",
        "\n",
        "# Perform paired t-test\n",
        "t_statistic, p_value = stats.ttest_rel(before_weight, after_weight)\n",
        "\n",
        "# Output\n",
        "print(\"Results of the paired t-test:\")\n",
        "print(\"t-statistic:\", t_statistic)\n",
        "print(\"p-value:\", p_value)\n",
        "\n",
        "# Interpretation\n",
        "alpha = 0.05  # Significance level\n",
        "if p_value > alpha:\n",
        "    print(\"\\nFail to reject null hypothesis: There is no significant difference in weights before and after treatment.\")\n",
        "else:\n",
        "    print(\"\\nReject null hypothesis: There is a significant difference in weights before and after treatment.\")\n"
      ],
      "metadata": {
        "colab": {
          "base_uri": "https://localhost:8080/"
        },
        "id": "0JyBcchEB5zM",
        "outputId": "e7b2c35a-7e0a-4f80-806d-c3644a333686"
      },
      "execution_count": null,
      "outputs": [
        {
          "output_type": "stream",
          "name": "stdout",
          "text": [
            "Results of the paired t-test:\n",
            "t-statistic: 3.508733703508054\n",
            "p-value: 0.0006789809415504997\n",
            "\n",
            "Reject null hypothesis: There is a significant difference in weights before and after treatment.\n"
          ]
        }
      ]
    },
    {
      "cell_type": "markdown",
      "source": [
        "Type I and Type II Error¶\n",
        "The result of a statistical hypothesis test and the corresponding decision of whether to reject or accept the null hypothesis is not infallible. A test provides evidence for or against the null hypothesis and then you decide whether to accept or reject it based on that evidence, but the evidence may lack the strength to arrive at the correct conclusion. Incorrect conclusions made from hypothesis tests fall in one of two categories: type I error and type II error.\n",
        "\n",
        "Type I error describes a situation where you reject the null hypothesis when it is actually true. This type of error is also known as a \"false positive\" or \"false hit\". The type 1 error rate is equal to the significance level α, so setting a higher confidence level (and therefore lower alpha) reduces the chances of getting a false positive.\n",
        "\n",
        "Type II error describes a situation where you fail to reject the null hypothesis when it is actually false. Type II error is also known as a \"false negative\" or \"miss\". The higher your confidence level, the more likely you are to make a type II error.\n",
        "\n",
        "Let's investigate these errors with a plot:"
      ],
      "metadata": {
        "id": "U-9RLgWAChNJ"
      }
    },
    {
      "cell_type": "code",
      "source": [
        "import numpy as np\n",
        "import scipy.stats as stats\n",
        "import matplotlib.pyplot as plt\n",
        "\n",
        "# Plot setup\n",
        "plt.figure(figsize=(12, 8))\n",
        "\n",
        "# Plotting distributions under the null hypothesis\n",
        "plt.fill_between(x=np.arange(-4, -2, 0.01),\n",
        "                 y1=stats.norm.pdf(np.arange(-4, -2, 0.01)),\n",
        "                 facecolor='red', alpha=0.35)\n",
        "\n",
        "plt.fill_between(x=np.arange(-2, 2, 0.01),\n",
        "                 y1=stats.norm.pdf(np.arange(-2, 2, 0.01)),\n",
        "                 facecolor='grey', alpha=0.35)\n",
        "\n",
        "plt.fill_between(x=np.arange(2, 4, 0.01),\n",
        "                 y1=stats.norm.pdf(np.arange(2, 4, 0.01)),\n",
        "                 facecolor='red', alpha=0.5)\n",
        "\n",
        "# Plotting distributions under the alternative hypothesis\n",
        "plt.fill_between(x=np.arange(-4, -2, 0.01),\n",
        "                 y1=stats.norm.pdf(np.arange(-4, -2, 0.01), loc=3, scale=2),\n",
        "                 facecolor='grey', alpha=0.35)\n",
        "\n",
        "plt.fill_between(x=np.arange(-2, 2, 0.01),\n",
        "                 y1=stats.norm.pdf(np.arange(-2, 2, 0.01), loc=3, scale=2),\n",
        "                 facecolor='blue', alpha=0.35)\n",
        "\n",
        "plt.fill_between(x=np.arange(2, 10, 0.01),\n",
        "                 y1=stats.norm.pdf(np.arange(2, 10, 0.01), loc=3, scale=2),\n",
        "                 facecolor='grey', alpha=0.35)\n",
        "\n",
        "# Adding labels\n",
        "plt.text(x=-3.8, y=0.12, s=\"Null Hypothesis\", fontsize=12)\n",
        "plt.text(x=3.2, y=0.12, s=\"Alternative Hypothesis\", fontsize=12)\n",
        "plt.text(x=-3.5, y=0.015, s=\"Type I Error (False Positive)\", fontsize=10, color='red')\n",
        "plt.text(x=2.5, y=0.015, s=\"Type I Error (False Positive)\", fontsize=10, color='red')\n",
        "plt.text(x=0, y=0.03, s=\"Type II Error (False Negative)\", fontsize=10, color='blue')\n",
        "\n",
        "# Adding axis labels and title\n",
        "plt.xlabel('Test Statistic')\n",
        "plt.ylabel('Density')\n",
        "plt.title('Type I and Type II Errors in Hypothesis Testing')\n",
        "\n",
        "# Display plot\n",
        "plt.grid(True)\n",
        "plt.show()\n"
      ],
      "metadata": {
        "colab": {
          "base_uri": "https://localhost:8080/",
          "height": 718
        },
        "id": "26roqqvKC4p9",
        "outputId": "2e2a1f0e-d006-43b3-b78a-24ff90e419c0"
      },
      "execution_count": null,
      "outputs": [
        {
          "output_type": "display_data",
          "data": {
            "text/plain": [
              "<Figure size 1200x800 with 1 Axes>"
            ],
            "image/png": "[encoded data removed]"
          },
          "metadata": {}
        }
      ]
    },
    {
      "cell_type": "markdown",
      "source": [
        "In the plot above, the red areas indicate type I errors assuming the alternative hypothesis is not different from the null for a two-sided test with a 95% confidence level.\n",
        "\n",
        "The blue area represents type II errors that occur when the alternative hypothesis is different from the null, as shown by the distribution on the right. Note that the Type II error rate is the area under the alternative distribution within the quantiles determined by the null distribution and the confidence level. We can calculate the type II error rate for the distributions above as follows:"
      ],
      "metadata": {
        "id": "keaIvJfiDDIg"
      }
    },
    {
      "cell_type": "code",
      "source": [
        "# Parameters for the alternative distribution\n",
        "alt_mean = 3  # Mean under the alternative hypothesis\n",
        "std_dev = 2   # Standard deviation for the alternative distribution\n",
        "\n",
        "# Quantiles for the normal distribution (z-scores) for a two-sided test\n",
        "lower_quantile = stats.norm.ppf(0.025)  # Lower cutoff value\n",
        "upper_quantile = stats.norm.ppf(0.975)  # Upper cutoff value\n",
        "\n",
        "# Area under alternative, to the left the lower cutoff value\n",
        "low = stats.norm.cdf(lower_quantile, loc=alt_mean, scale=std_dev)\n",
        "\n",
        "# Area under alternative, to the left the upper cutoff value\n",
        "high = stats.norm.cdf(upper_quantile, loc=alt_mean, scale=std_dev)\n",
        "\n",
        "# Area under the alternative, between the cutoffs (Type II error)\n",
        "type_ii_error_rate = high - low\n",
        "\n",
        "print(f\"Type II Error Rate: {type_ii_error_rate:.4f}\")"
      ],
      "metadata": {
        "colab": {
          "base_uri": "https://localhost:8080/"
        },
        "id": "7FnYSJgQD_Ql",
        "outputId": "1a2f7d64-c3f9-4363-a472-b752e7b437cb"
      },
      "execution_count": null,
      "outputs": [
        {
          "output_type": "stream",
          "name": "stdout",
          "text": [
            "Type II Error Rate: 0.2950\n"
          ]
        }
      ]
    },
    {
      "cell_type": "markdown",
      "source": [
        "The Type II error rate of approximately 0.2950 (or 29.5%) indicates that there is a substantial probability of failing to reject the null hypothesis when the true mean is actually different (specifically, 3) under the alternative hypothesis.\n",
        "\n",
        "This is due to the overlap between the null and alternative distributions, which means that the observed data might not show a statistically significant difference even though there is one in reality.\n",
        "\n",
        "Here's a brief summary of what we found:\n",
        "\n",
        "Type II Error Rate: Approximately 0.2950 (or 29.5%)\n",
        "This means that with the given distributions:\n",
        "\n",
        "About 29.5% of the time, we would fail to reject the null hypothesis (accept the null incorrectly) when the true population mean is actually 3.\n",
        "This high Type II error rate suggests that the power of the test (ability to detect a true difference when it exists) is not very high. Increasing the sample size or reducing the variability in the data could potentially decrease the Type II error rate and improve the power of the test.\n",
        "\n"
      ],
      "metadata": {
        "id": "XwaGZd_nEYmP"
      }
    },
    {
      "cell_type": "code",
      "source": [],
      "metadata": {
        "id": "3n3WYpI-EHu5"
      },
      "execution_count": null,
      "outputs": []
    },
    {
      "cell_type": "markdown",
      "source": [
        "###Statistical Power\n",
        "The power of a statistical test is the probability that the test rejects the null hypothesis when the alternative is actually different from the null. In other words, power is the probability that the test detects that there is something interesting going on when there actually is something interesting going on. Power is equal to one minus the type II error rate. The power of a statistical test is influenced by:\n",
        "\n",
        "The significance level chosen for the test.\n",
        "The sample size.\n",
        "The effect size of the test.\n",
        "When choosing a significance level for a test, there is a trade-off between type I and type II error. A low significance level, such as 0.01 makes a test unlikely to have type I errors (false positives), but more likely to have type II errors (false negatives) than a test with larger value of the significance level α. A common convention is that a statistical tests should have a power of at least 0.8.\n",
        "\n",
        "A larger sample size reduces the uncertainty of the point estimate, causing the sample distribution to narrow, resulting in lower type II error rates and increased power.\n",
        "\n",
        "Effect size is a general term that describes a numeric measure of the size of some phenomenon. There are many different effect size measurements that arise in different contexts. In the context of the T-test, a simple effect size is the difference between the means of the samples. This number can be standardized by dividing by the standard deviation of the population or the pooled standard deviation of the samples. This puts the size of the effect in terms of standard deviations, so a standardized effect size of 0.5 would be interpreted as one sample mean being 0.5 standard deviations from another (in general 0.5 is considered a \"large\" effect size).\n",
        "\n",
        "Since statistical power, the significance level, the effect size and the sample size are related, it is possible to calculate any one of them for given values of the other three. This can be an important part of the process of designing a hypothesis test and analyzing results. For instance, if you want to conduct a test with a given significance level (say the standard 0.05) and power (say the standard 0.8) and you are interested in a given effect size (say 0.5 for standardized difference between sample means), you could use that information to determine how large of a sample size you need.\n",
        "\n",
        "In python, the statsmodels library contains functions to solve for any one parameter of the power of T-tests. Use statsmodels.stats.power.tt_solve_power for one sample t-tests and statsmodels.stats.power.tt_ind_solve_power for a two sample t-test. Let's check the sample size we should use need to use given the standard parameter values above for a one sample t-test:"
      ],
      "metadata": {
        "id": "A7e1PIzrEpNk"
      }
    },
    {
      "cell_type": "code",
      "source": [],
      "metadata": {
        "id": "2bRhgGjrEpsa"
      },
      "execution_count": null,
      "outputs": []
    },
    {
      "cell_type": "code",
      "source": [
        "from statsmodels.stats.power import tt_solve_power\n",
        "\n",
        "# Parameters for the power analysis\n",
        "effect_size = 0.5  # standardized effect size (mean difference / std)\n",
        "alpha = 0.05       # significance level\n",
        "power = 0.8        # desired power\n",
        "\n",
        "# Perform power analysis\n",
        "sample_size = tt_solve_power(effect_size=effect_size, alpha=alpha, power=power)\n",
        "\n",
        "# Print the sample size needed\n",
        "print(f\"Sample Size Needed: {sample_size:.2f}\")\n"
      ],
      "metadata": {
        "colab": {
          "base_uri": "https://localhost:8080/"
        },
        "id": "wpm96jS6EsI6",
        "outputId": "72c61ecd-1234-43e8-a8bf-f989a975da40"
      },
      "execution_count": null,
      "outputs": [
        {
          "output_type": "stream",
          "name": "stdout",
          "text": [
            "Sample Size Needed: 33.37\n"
          ]
        }
      ]
    },
    {
      "cell_type": "markdown",
      "source": [
        "This means that in order to conduct a one-sample t-test with a standardized effect size of 0.5, a significance level of 0.05, and a power of 0.8, you would need a sample size of at least 34.\n",
        "\n",
        "This calculation is useful in experimental design to ensure that your study has sufficient power to detect the effect size of interest, given the chosen significance level and desired power."
      ],
      "metadata": {
        "id": "XI05nYoxE04O"
      }
    },
    {
      "cell_type": "code",
      "source": [],
      "metadata": {
        "id": "YpqQtlktE1XS"
      },
      "execution_count": null,
      "outputs": []
    },
    {
      "cell_type": "markdown",
      "source": [
        "##Normality Tests: Shapiro-Wilk and Kolmogorov-Smirnov tests to check if data is normally distributed.\n",
        "##Correlation Tests: Pearson and Spearman's Rank to assess the correlation between variables.\n",
        "##Parametric Tests: T-tests (one-sample and two-sample) and ANOVA to compare means.\n",
        "##Non-Parametric Tests: Mann-Whitney U Test to compare distributions.\n",
        "##Power Analysis: Using tt_solve_power and tt_ind_solve_power to determine sample size for desired power.\n",
        "##These tests and analyses can be crucial for understanding data, validating assumptions, and making informed decisions in research."
      ],
      "metadata": {
        "id": "BQcATcPoVB6H"
      }
    },
    {
      "cell_type": "markdown",
      "source": [
        "### Normality Tests"
      ],
      "metadata": {
        "id": "n3GUqnaDTR5i"
      }
    },
    {
      "cell_type": "markdown",
      "source": [
        "#Shapiro-Wilk Test"
      ],
      "metadata": {
        "id": "aLle0mJZTYY2"
      }
    },
    {
      "cell_type": "code",
      "source": [
        "from scipy.stats import shapiro, kstest\n",
        "import numpy as np\n",
        "# Generate sample data\n",
        "sample_data = np.random.normal(loc=0, scale=1, size=1000)\n",
        "\n",
        "# Shapiro-Wilk Test\n",
        "shapiro_stat, shapiro_p = shapiro(sample_data)\n",
        "print(f\"Shapiro-Wilk Test: Statistic={shapiro_stat}, p-value={shapiro_p}\")\n"
      ],
      "metadata": {
        "colab": {
          "base_uri": "https://localhost:8080/"
        },
        "id": "9_XogeY8TSbG",
        "outputId": "ebef2208-7ae7-412d-8adf-28e3107536f8"
      },
      "execution_count": 2,
      "outputs": [
        {
          "output_type": "stream",
          "name": "stdout",
          "text": [
            "Shapiro-Wilk Test: Statistic=0.9982365369796753, p-value=0.39615845680236816\n"
          ]
        }
      ]
    },
    {
      "cell_type": "code",
      "source": [],
      "metadata": {
        "id": "oos6WIxXToVf"
      },
      "execution_count": null,
      "outputs": []
    },
    {
      "cell_type": "markdown",
      "source": [
        "##Kolmogorov-Smirnov Test"
      ],
      "metadata": {
        "id": "Jd3_FxOKTps6"
      }
    },
    {
      "cell_type": "code",
      "source": [
        "# Kolmogorov-Smirnov Test against a normal distribution\n",
        "ks_stat, ks_p = kstest(sample_data, 'norm')\n",
        "print(f\"Kolmogorov-Smirnov Test: Statistic={ks_stat}, p-value={ks_p}\")\n"
      ],
      "metadata": {
        "colab": {
          "base_uri": "https://localhost:8080/"
        },
        "id": "PKGo-I5XTs0a",
        "outputId": "7a6139fe-d0fe-463f-bae2-e960802d29b1"
      },
      "execution_count": 3,
      "outputs": [
        {
          "output_type": "stream",
          "name": "stdout",
          "text": [
            "Kolmogorov-Smirnov Test: Statistic=0.019085289858559618, p-value=0.8525611597294384\n"
          ]
        }
      ]
    },
    {
      "cell_type": "code",
      "source": [],
      "metadata": {
        "id": "dXq1TOgYT5LC"
      },
      "execution_count": null,
      "outputs": []
    },
    {
      "cell_type": "markdown",
      "source": [
        "###Correlation Tests"
      ],
      "metadata": {
        "id": "fcOhQ_slT7Oy"
      }
    },
    {
      "cell_type": "markdown",
      "source": [
        "##Pearson Correlation"
      ],
      "metadata": {
        "id": "HVOmsy5zUGw9"
      }
    },
    {
      "cell_type": "code",
      "source": [
        "from scipy.stats import pearsonr\n",
        "\n",
        "# Generate sample data\n",
        "x = np.random.rand(100)\n",
        "y = x + np.random.normal(0, 0.1, 100)\n",
        "\n",
        "# Pearson Correlation\n",
        "pearson_corr, pearson_p = pearsonr(x, y)\n",
        "print(f\"Pearson Correlation: Coefficient={pearson_corr}, p-value={pearson_p}\")\n"
      ],
      "metadata": {
        "colab": {
          "base_uri": "https://localhost:8080/"
        },
        "id": "UDg7WwezT7uy",
        "outputId": "7835ed39-ee72-4144-9290-3faccb0548ab"
      },
      "execution_count": 4,
      "outputs": [
        {
          "output_type": "stream",
          "name": "stdout",
          "text": [
            "Pearson Correlation: Coefficient=0.9413461305582362, p-value=4.9487551628046345e-48\n"
          ]
        }
      ]
    },
    {
      "cell_type": "markdown",
      "source": [
        "###Spearman's Rank Correlation"
      ],
      "metadata": {
        "id": "eUC-VyyBUFRi"
      }
    },
    {
      "cell_type": "code",
      "source": [
        "from scipy.stats import spearmanr\n",
        "\n",
        "# Spearman's Rank Correlation\n",
        "spearman_corr, spearman_p = spearmanr(x, y)\n",
        "print(f\"Spearman's Rank Correlation: Coefficient={spearman_corr}, p-value={spearman_p}\")\n"
      ],
      "metadata": {
        "colab": {
          "base_uri": "https://localhost:8080/"
        },
        "id": "7ByA9O2vUTfV",
        "outputId": "bd171463-b2c9-4b87-f156-5f9fe5dd8b1b"
      },
      "execution_count": 5,
      "outputs": [
        {
          "output_type": "stream",
          "name": "stdout",
          "text": [
            "Spearman's Rank Correlation: Coefficient=0.9504950495049505, p-value=1.5194520070178065e-51\n"
          ]
        }
      ]
    },
    {
      "cell_type": "code",
      "source": [],
      "metadata": {
        "id": "NWtwvgbDUV8E"
      },
      "execution_count": null,
      "outputs": []
    },
    {
      "cell_type": "markdown",
      "source": [
        "###3. Parametric Tests"
      ],
      "metadata": {
        "id": "Dy-f0G4oUcRf"
      }
    },
    {
      "cell_type": "code",
      "source": [],
      "metadata": {
        "id": "oyFg9QT0UaF_"
      },
      "execution_count": null,
      "outputs": []
    },
    {
      "cell_type": "markdown",
      "source": [
        "##T-test"
      ],
      "metadata": {
        "id": "OHhFYMSuUf_b"
      }
    },
    {
      "cell_type": "code",
      "source": [
        "from scipy.stats import ttest_1samp, ttest_ind\n",
        "\n",
        "# One-sample T-test\n",
        "t_stat, t_p = ttest_1samp(sample_data, popmean=0)\n",
        "print(f\"One-sample T-test: Statistic={t_stat}, p-value={t_p}\")\n",
        "\n",
        "# Two-sample T-test\n",
        "sample_data2 = np.random.normal(loc=1, scale=1, size=1000)\n",
        "t_stat2, t_p2 = ttest_ind(sample_data, sample_data2, equal_var=False)\n",
        "print(f\"Two-sample T-test: Statistic={t_stat2}, p-value={t_p2}\")\n"
      ],
      "metadata": {
        "colab": {
          "base_uri": "https://localhost:8080/"
        },
        "id": "Pceqcl6JUjKa",
        "outputId": "2771068c-bc05-4d66-8238-20d12f531558"
      },
      "execution_count": 6,
      "outputs": [
        {
          "output_type": "stream",
          "name": "stdout",
          "text": [
            "One-sample T-test: Statistic=-0.48188879072536556, p-value=0.6299904990968214\n",
            "Two-sample T-test: Statistic=-23.050904314995933, p-value=1.9051264729545456e-104\n"
          ]
        }
      ]
    },
    {
      "cell_type": "code",
      "source": [],
      "metadata": {
        "id": "JFnG0Zl5UlzR"
      },
      "execution_count": null,
      "outputs": []
    },
    {
      "cell_type": "markdown",
      "source": [
        "##ANOVA"
      ],
      "metadata": {
        "id": "N40ECDNpUodB"
      }
    },
    {
      "cell_type": "code",
      "source": [
        "from scipy.stats import f_oneway\n",
        "\n",
        "# Generate sample data for ANOVA\n",
        "group1 = np.random.normal(loc=0, scale=1, size=100)\n",
        "group2 = np.random.normal(loc=0.5, scale=1, size=100)\n",
        "group3 = np.random.normal(loc=1, scale=1, size=100)\n",
        "\n",
        "# ANOVA\n",
        "anova_stat, anova_p = f_oneway(group1, group2, group3)\n",
        "print(f\"ANOVA: Statistic={anova_stat}, p-value={anova_p}\")\n"
      ],
      "metadata": {
        "colab": {
          "base_uri": "https://localhost:8080/"
        },
        "id": "Iz0g7uj5Upib",
        "outputId": "0ba690c9-8727-4c51-ff64-fc0c7543d659"
      },
      "execution_count": 7,
      "outputs": [
        {
          "output_type": "stream",
          "name": "stdout",
          "text": [
            "ANOVA: Statistic=30.148298021581965, p-value=1.201003396043354e-12\n"
          ]
        }
      ]
    },
    {
      "cell_type": "code",
      "source": [],
      "metadata": {
        "id": "qC6dspbIUq8S"
      },
      "execution_count": null,
      "outputs": []
    },
    {
      "cell_type": "markdown",
      "source": [
        "##4. Non-Parametric Tests"
      ],
      "metadata": {
        "id": "RNlm_d5oUudg"
      }
    },
    {
      "cell_type": "code",
      "source": [],
      "metadata": {
        "id": "SVNyevM-UvZ8"
      },
      "execution_count": null,
      "outputs": []
    },
    {
      "cell_type": "markdown",
      "source": [
        "##Mann-Whitney U Test"
      ],
      "metadata": {
        "id": "9ffLAGHHUxhp"
      }
    },
    {
      "cell_type": "code",
      "source": [
        "from scipy.stats import mannwhitneyu\n",
        "\n",
        "# Generate sample data for Mann-Whitney U Test\n",
        "sample_data3 = np.random.rand(100)\n",
        "sample_data4 = np.random.rand(100)\n",
        "\n",
        "# Mann-Whitney U Test\n",
        "u_stat, u_p = mannwhitneyu(sample_data3, sample_data4)\n",
        "print(f\"Mann-Whitney U Test: Statistic={u_stat}, p-value={u_p}\")\n"
      ],
      "metadata": {
        "colab": {
          "base_uri": "https://localhost:8080/"
        },
        "id": "2pPRRBbxUyGv",
        "outputId": "463f164e-7882-4287-fdbd-8e7e40bd9a54"
      },
      "execution_count": 8,
      "outputs": [
        {
          "output_type": "stream",
          "name": "stdout",
          "text": [
            "Mann-Whitney U Test: Statistic=5580.0, p-value=0.15679194199622598\n"
          ]
        }
      ]
    },
    {
      "cell_type": "code",
      "source": [],
      "metadata": {
        "id": "2juxMWhIUzp8"
      },
      "execution_count": null,
      "outputs": []
    },
    {
      "cell_type": "markdown",
      "source": [
        "###5. Power Analysis for T-tests"
      ],
      "metadata": {
        "id": "nFSpMu34U3A_"
      }
    },
    {
      "cell_type": "code",
      "source": [
        "from statsmodels.stats.power import tt_solve_power\n",
        "\n",
        "# Parameters for the power analysis\n",
        "effect_size = 0.5  # standardized effect size (mean difference / std)\n",
        "alpha = 0.05       # significance level\n",
        "power = 0.8        # desired power\n",
        "\n",
        "# Perform power analysis for a one-sample t-test\n",
        "sample_size = tt_solve_power(effect_size=effect_size, alpha=alpha, power=power)\n",
        "print(f\"Sample Size Needed for One-Sample T-test: {sample_size:.2f}\")\n",
        "\n",
        "# Perform power analysis for a two-sample t-test\n",
        "from statsmodels.stats.power import tt_ind_solve_power\n",
        "\n",
        "sample_size_two_sample = tt_ind_solve_power(effect_size=effect_size, alpha=alpha, power=power)\n",
        "print(f\"Sample Size Needed for Two-Sample T-test: {sample_size_two_sample:.2f}\")\n"
      ],
      "metadata": {
        "colab": {
          "base_uri": "https://localhost:8080/"
        },
        "id": "X5DKkKgjU3kJ",
        "outputId": "715ede5d-78ce-4c2f-cffd-aa3fb480ba79"
      },
      "execution_count": 9,
      "outputs": [
        {
          "output_type": "stream",
          "name": "stdout",
          "text": [
            "Sample Size Needed for One-Sample T-test: 33.37\n",
            "Sample Size Needed for Two-Sample T-test: 63.77\n"
          ]
        }
      ]
    },
    {
      "cell_type": "code",
      "source": [],
      "metadata": {
        "id": "8UXwWh6hU5Vy"
      },
      "execution_count": null,
      "outputs": []
    }
  ]
}